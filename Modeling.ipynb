{
 "cells": [
  {
   "cell_type": "markdown",
   "id": "3919e78e",
   "metadata": {},
   "source": [
    "## Modeling (Part A)"
   ]
  },
  {
   "cell_type": "markdown",
   "id": "dbea4e13",
   "metadata": {},
   "source": [
    "## Loading Data"
   ]
  },
  {
   "cell_type": "code",
   "execution_count": 1,
   "id": "0e9d2eb6",
   "metadata": {},
   "outputs": [],
   "source": [
    "import pandas as pd\n",
    "from sklearn.model_selection import train_test_split\n",
    "from sklearn.ensemble import RandomForestRegressor\n",
    "from sklearn.metrics import mean_squared_error\n",
    "#import xgboost as xg \n",
    "import numpy as np \n",
    "from sklearn.model_selection import GridSearchCV\n",
    "import matplotlib.pyplot as plt"
   ]
  },
  {
   "cell_type": "code",
   "execution_count": 2,
   "id": "efb3eb43",
   "metadata": {},
   "outputs": [
    {
     "data": {
      "text/html": [
       "<div>\n",
       "<style scoped>\n",
       "    .dataframe tbody tr th:only-of-type {\n",
       "        vertical-align: middle;\n",
       "    }\n",
       "\n",
       "    .dataframe tbody tr th {\n",
       "        vertical-align: top;\n",
       "    }\n",
       "\n",
       "    .dataframe thead th {\n",
       "        text-align: right;\n",
       "    }\n",
       "</style>\n",
       "<table border=\"1\" class=\"dataframe\">\n",
       "  <thead>\n",
       "    <tr style=\"text-align: right;\">\n",
       "      <th></th>\n",
       "      <th>Price</th>\n",
       "      <th>Shared Room</th>\n",
       "      <th>Private Room</th>\n",
       "      <th>Person Capacity</th>\n",
       "      <th>Superhost</th>\n",
       "      <th>Multiple Rooms</th>\n",
       "      <th>Business</th>\n",
       "      <th>Cleanliness Rating</th>\n",
       "      <th>Guest Satisfaction</th>\n",
       "      <th>Bedrooms</th>\n",
       "      <th>...</th>\n",
       "      <th>City_Barcelona</th>\n",
       "      <th>City_Berlin</th>\n",
       "      <th>City_Budapest</th>\n",
       "      <th>City_Lisbon</th>\n",
       "      <th>City_Paris</th>\n",
       "      <th>City_Rome</th>\n",
       "      <th>City_Vienna</th>\n",
       "      <th>Day_Weekday</th>\n",
       "      <th>Day_Weekend</th>\n",
       "      <th>Room_Type_Entire home/apt</th>\n",
       "    </tr>\n",
       "  </thead>\n",
       "  <tbody>\n",
       "    <tr>\n",
       "      <th>0</th>\n",
       "      <td>194.033698</td>\n",
       "      <td>False</td>\n",
       "      <td>True</td>\n",
       "      <td>2.0</td>\n",
       "      <td>False</td>\n",
       "      <td>1</td>\n",
       "      <td>0</td>\n",
       "      <td>10.0</td>\n",
       "      <td>93.0</td>\n",
       "      <td>1</td>\n",
       "      <td>...</td>\n",
       "      <td>False</td>\n",
       "      <td>False</td>\n",
       "      <td>False</td>\n",
       "      <td>False</td>\n",
       "      <td>False</td>\n",
       "      <td>False</td>\n",
       "      <td>False</td>\n",
       "      <td>True</td>\n",
       "      <td>False</td>\n",
       "      <td>False</td>\n",
       "    </tr>\n",
       "    <tr>\n",
       "      <th>1</th>\n",
       "      <td>344.245776</td>\n",
       "      <td>False</td>\n",
       "      <td>True</td>\n",
       "      <td>4.0</td>\n",
       "      <td>False</td>\n",
       "      <td>0</td>\n",
       "      <td>0</td>\n",
       "      <td>8.0</td>\n",
       "      <td>85.0</td>\n",
       "      <td>1</td>\n",
       "      <td>...</td>\n",
       "      <td>False</td>\n",
       "      <td>False</td>\n",
       "      <td>False</td>\n",
       "      <td>False</td>\n",
       "      <td>False</td>\n",
       "      <td>False</td>\n",
       "      <td>False</td>\n",
       "      <td>True</td>\n",
       "      <td>False</td>\n",
       "      <td>False</td>\n",
       "    </tr>\n",
       "    <tr>\n",
       "      <th>2</th>\n",
       "      <td>264.101422</td>\n",
       "      <td>False</td>\n",
       "      <td>True</td>\n",
       "      <td>2.0</td>\n",
       "      <td>False</td>\n",
       "      <td>0</td>\n",
       "      <td>1</td>\n",
       "      <td>9.0</td>\n",
       "      <td>87.0</td>\n",
       "      <td>1</td>\n",
       "      <td>...</td>\n",
       "      <td>False</td>\n",
       "      <td>False</td>\n",
       "      <td>False</td>\n",
       "      <td>False</td>\n",
       "      <td>False</td>\n",
       "      <td>False</td>\n",
       "      <td>False</td>\n",
       "      <td>True</td>\n",
       "      <td>False</td>\n",
       "      <td>False</td>\n",
       "    </tr>\n",
       "    <tr>\n",
       "      <th>3</th>\n",
       "      <td>433.529398</td>\n",
       "      <td>False</td>\n",
       "      <td>True</td>\n",
       "      <td>4.0</td>\n",
       "      <td>False</td>\n",
       "      <td>0</td>\n",
       "      <td>1</td>\n",
       "      <td>9.0</td>\n",
       "      <td>90.0</td>\n",
       "      <td>2</td>\n",
       "      <td>...</td>\n",
       "      <td>False</td>\n",
       "      <td>False</td>\n",
       "      <td>False</td>\n",
       "      <td>False</td>\n",
       "      <td>False</td>\n",
       "      <td>False</td>\n",
       "      <td>False</td>\n",
       "      <td>True</td>\n",
       "      <td>False</td>\n",
       "      <td>False</td>\n",
       "    </tr>\n",
       "    <tr>\n",
       "      <th>4</th>\n",
       "      <td>485.552926</td>\n",
       "      <td>False</td>\n",
       "      <td>True</td>\n",
       "      <td>2.0</td>\n",
       "      <td>True</td>\n",
       "      <td>0</td>\n",
       "      <td>0</td>\n",
       "      <td>10.0</td>\n",
       "      <td>98.0</td>\n",
       "      <td>1</td>\n",
       "      <td>...</td>\n",
       "      <td>False</td>\n",
       "      <td>False</td>\n",
       "      <td>False</td>\n",
       "      <td>False</td>\n",
       "      <td>False</td>\n",
       "      <td>False</td>\n",
       "      <td>False</td>\n",
       "      <td>True</td>\n",
       "      <td>False</td>\n",
       "      <td>False</td>\n",
       "    </tr>\n",
       "  </tbody>\n",
       "</table>\n",
       "<p>5 rows × 27 columns</p>\n",
       "</div>"
      ],
      "text/plain": [
       "        Price  Shared Room  Private Room  Person Capacity  Superhost  \\\n",
       "0  194.033698        False          True              2.0      False   \n",
       "1  344.245776        False          True              4.0      False   \n",
       "2  264.101422        False          True              2.0      False   \n",
       "3  433.529398        False          True              4.0      False   \n",
       "4  485.552926        False          True              2.0       True   \n",
       "\n",
       "   Multiple Rooms  Business  Cleanliness Rating  Guest Satisfaction  Bedrooms  \\\n",
       "0               1         0                10.0                93.0         1   \n",
       "1               0         0                 8.0                85.0         1   \n",
       "2               0         1                 9.0                87.0         1   \n",
       "3               0         1                 9.0                90.0         2   \n",
       "4               0         0                10.0                98.0         1   \n",
       "\n",
       "   ...  City_Barcelona  City_Berlin  City_Budapest  City_Lisbon  City_Paris  \\\n",
       "0  ...           False        False          False        False       False   \n",
       "1  ...           False        False          False        False       False   \n",
       "2  ...           False        False          False        False       False   \n",
       "3  ...           False        False          False        False       False   \n",
       "4  ...           False        False          False        False       False   \n",
       "\n",
       "   City_Rome  City_Vienna  Day_Weekday  Day_Weekend  Room_Type_Entire home/apt  \n",
       "0      False        False         True        False                      False  \n",
       "1      False        False         True        False                      False  \n",
       "2      False        False         True        False                      False  \n",
       "3      False        False         True        False                      False  \n",
       "4      False        False         True        False                      False  \n",
       "\n",
       "[5 rows x 27 columns]"
      ]
     },
     "execution_count": 2,
     "metadata": {},
     "output_type": "execute_result"
    }
   ],
   "source": [
    "data = pd.read_csv(\"data/cleaned_data_updated.csv\")\n",
    "\n",
    "data.head()"
   ]
  },
  {
   "cell_type": "code",
   "execution_count": 3,
   "id": "ab5a2cd7",
   "metadata": {},
   "outputs": [],
   "source": [
    "X = data.drop('Price', axis=1)\n",
    "y = data['Price']\n",
    "\n",
    "# Create bins for the price range based on quantiles for stratification\n",
    "price_bins = pd.qcut(y, q=10, duplicates='drop') \n",
    "\n",
    "# Splitting the data into train, validation, and test sets\n",
    "# 60% train, 20% validation, 20% test\n",
    "X_train, X_temp, y_train, y_temp = train_test_split(X, y, test_size=0.4, random_state=42, stratify=price_bins)\n",
    "X_val, X_test, y_val, y_test = train_test_split(X_temp, y_temp, test_size=0.5, random_state=42, stratify=price_bins.loc[X_temp.index])\n"
   ]
  },
  {
   "cell_type": "markdown",
   "id": "0115b44d",
   "metadata": {},
   "source": [
    "## Random Forest Regressor"
   ]
  },
  {
   "cell_type": "code",
   "execution_count": 4,
   "id": "2b4f6fd6",
   "metadata": {},
   "outputs": [
    {
     "name": "stdout",
     "output_type": "stream",
     "text": [
      "Test MSE : 2842.107623\n",
      "Test RMSE: 53.311421\n",
      "Validation MSE : 2637.472349\n",
      "Validation RMSE: 51.356327\n"
     ]
    }
   ],
   "source": [
    "# Initialize the Random Forest Regressor\n",
    "rf_model = RandomForestRegressor(random_state=42)\n",
    "\n",
    "# Train the model on the training set\n",
    "rf_model.fit(X_train, y_train)\n",
    "\n",
    "# Predict on the validation set\n",
    "y_val_pred = rf_model.predict(X_val)\n",
    "\n",
    "# Predict on the test set\n",
    "y_test_pred = rf_model.predict(X_test)\n",
    "\n",
    "# Calculating the MSE and RMSE for the test set\n",
    "mse_test = mean_squared_error(y_test, y_test_pred)\n",
    "rmse_test = np.sqrt(mse_test)\n",
    "\n",
    "print(\"Test MSE : %f\" % mse_test) \n",
    "print(\"Test RMSE: %f\" % rmse_test)\n",
    "\n",
    "# Calculating the MSE and RMSE for the validation set\n",
    "mse_val = mean_squared_error(y_val, y_val_pred)\n",
    "rmse_val = np.sqrt(mse_val)\n",
    "print(\"Validation MSE : %f\" %(mse_val)) \n",
    "print(\"Validation RMSE: %f\" % (rmse_val))"
   ]
  },
  {
   "cell_type": "markdown",
   "id": "fab9dab2",
   "metadata": {},
   "source": [
    "### Tuning Radom Forest"
   ]
  },
  {
   "cell_type": "markdown",
   "id": "2e14a24e",
   "metadata": {},
   "source": [
    "Doing a GridSearch in order to find the best parameters"
   ]
  },
  {
   "cell_type": "code",
   "execution_count": 5,
   "id": "c5a699c5",
   "metadata": {},
   "outputs": [
    {
     "name": "stdout",
     "output_type": "stream",
     "text": [
      "Fitting 3 folds for each of 6 candidates, totalling 18 fits\n"
     ]
    },
    {
     "data": {
      "image/png": "[encoded data removed]",
      "text/plain": [
       "<Figure size 1000x600 with 1 Axes>"
      ]
     },
     "metadata": {},
     "output_type": "display_data"
    }
   ],
   "source": [
    "# Define the parameter grid\n",
    "param_grid = {\n",
    "    'n_estimators': [100, 150, 200, 250, 300, 350]\n",
    "}\n",
    "\n",
    "# Initialize the grid search \n",
    "grid_search = GridSearchCV(estimator=rf_model, param_grid=param_grid, \n",
    "                           cv=3, n_jobs=-1, verbose=2, scoring='neg_mean_squared_error')\n",
    "\n",
    "# Fit the grid search to the data\n",
    "grid_search.fit(X_train, y_train)\n",
    "\n",
    "# Get the best parameters\n",
    "best_params = grid_search.best_params_\n",
    "best_params\n",
    "\n",
    "# Plotting\n",
    "results = grid_search.cv_results_\n",
    "\n",
    "plt.figure(figsize=(10, 6))\n",
    "plt.plot(results['param_n_estimators'], -results['mean_test_score'], marker='o') \n",
    "plt.xlabel('Number of Estimators')\n",
    "plt.ylabel('Mean Squared Error')\n",
    "plt.title('Performance of RandomForestRegressor for Different n_estimators')\n",
    "plt.grid(True)\n",
    "plt.show()"
   ]
  },
  {
   "cell_type": "markdown",
   "id": "3e27cf69",
   "metadata": {},
   "source": [
    "### Tunned Random Forest"
   ]
  },
  {
   "cell_type": "code",
   "execution_count": 7,
   "id": "612365a6",
   "metadata": {},
   "outputs": [
    {
     "name": "stdout",
     "output_type": "stream",
     "text": [
      "Test MSE : 2812.009186\n",
      "Test RMSE: 53.028381\n",
      "Validation MSE : 2614.248665\n",
      "Validation RMSE: 51.129724\n"
     ]
    }
   ],
   "source": [
    "# Initialize the Random Forest Regressor\n",
    "rf_model_tuned = RandomForestRegressor(random_state=42, n_estimators= best_params['n_estimators'])\n",
    "\n",
    "# Train the model on the training set\n",
    "rf_model_tuned.fit(X_train, y_train)\n",
    "\n",
    "# Predict on the validation set\n",
    "y_val_pred = rf_model_tuned.predict(X_val)\n",
    "\n",
    "# Predict on the test set\n",
    "y_test_pred = rf_model_tuned.predict(X_test)\n",
    "\n",
    "# Calculating the MSE and RMSE for the test set\n",
    "mse_test = mean_squared_error(y_test, y_test_pred)\n",
    "rmse_test = np.sqrt(mse_test)\n",
    "\n",
    "print(\"Test MSE : %f\" % mse_test) \n",
    "print(\"Test RMSE: %f\" % rmse_test)\n",
    "\n",
    "# Calculating the MSE and RMSE for the validation set\n",
    "mse_val = mean_squared_error(y_val, y_val_pred)\n",
    "rmse_val = np.sqrt(mse_val)\n",
    "print(\"Validation MSE : %f\" %(mse_val)) \n",
    "print(\"Validation RMSE: %f\" % (rmse_val))\n"
   ]
  },
  {
   "cell_type": "code",
   "execution_count": 11,
   "id": "dbf6ab4e",
   "metadata": {},
   "outputs": [
    {
     "data": {
      "image/png": "[encoded data removed]",
      "text/plain": [
       "<Figure size 640x480 with 1 Axes>"
      ]
     },
     "metadata": {},
     "output_type": "display_data"
    }
   ],
   "source": [
    "# Visualisation\n",
    "# Baseline RMSE value from another model\n",
    "baseline_rmse = 118\n",
    "\n",
    "# RMSE value for the tuned Random Forest model on the test set\n",
    "test_rmse = rmse_test\n",
    "\n",
    "# Plotting the RMSE values\n",
    "labels = ['Baseline', 'Our Tunned Model']\n",
    "rmse_values = [baseline_rmse, test_rmse]\n",
    "\n",
    "plt.bar(labels, rmse_values, color=['blue', 'green'])\n",
    "plt.ylabel('RMSE')\n",
    "plt.title('Comparison of RMSE Values (Baseline vs Our Tunned Model)')\n",
    "# Save the plot as an image file \n",
    "#plt.savefig('rmse_comparison.png')\n",
    "plt.show()"
   ]
  },
  {
   "cell_type": "markdown",
   "id": "6f17b327",
   "metadata": {},
   "source": [
    "# Protected attribute"
   ]
  },
  {
   "cell_type": "code",
   "execution_count": 13,
   "id": "794aa62a",
   "metadata": {},
   "outputs": [
    {
     "name": "stdout",
     "output_type": "stream",
     "text": [
      "Average Prediction Price for Superhosts: 209.66\n",
      "Average Prediction Price for Non-Superhosts: 220.93\n"
     ]
    }
   ],
   "source": [
    "df_results = pd.DataFrame({'Actual Price': y_test, 'Predicted Price': y_test_pred})\n",
    "\n",
    "# Assuming X_test is your feature DataFrame\n",
    "# Add the 'Superhost' column to df_results\n",
    "df_results['Superhost'] = X_test['Superhost'].values\n",
    "\n",
    "# Calculate average prediction price for Superhosts and non-Superhosts\n",
    "average_price_superhost = df_results[df_results['Superhost'] == True]['Predicted Price'].mean()\n",
    "average_price_non_superhost = df_results[df_results['Superhost'] == False]['Predicted Price'].mean()\n",
    "\n",
    "# Display the results\n",
    "print(\"Average Prediction Price for Superhosts: {:.2f}\".format(average_price_superhost))\n",
    "print(\"Average Prediction Price for Non-Superhosts: {:.2f}\".format(average_price_non_superhost))\n"
   ]
  }
 ],
 "metadata": {
  "kernelspec": {
   "display_name": "Python 3 (ipykernel)",
   "language": "python",
   "name": "python3"
  },
  "language_info": {
   "codemirror_mode": {
    "name": "ipython",
    "version": 3
   },
   "file_extension": ".py",
   "mimetype": "text/x-python",
   "name": "python",
   "nbconvert_exporter": "python",
   "pygments_lexer": "ipython3",
   "version": "3.11.6"
  }
 },
 "nbformat": 4,
 "nbformat_minor": 5
}
